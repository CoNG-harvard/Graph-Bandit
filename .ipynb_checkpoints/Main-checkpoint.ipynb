{
 "cells": [
  {
   "cell_type": "markdown",
   "id": "f7d6cd11",
   "metadata": {},
   "source": [
    "### Import modules"
   ]
  },
  {
   "cell_type": "code",
   "execution_count": 1,
   "id": "3da4ac06",
   "metadata": {},
   "outputs": [],
   "source": [
    "import networkx as nx\n",
    "import graph_bandit_RL\n",
    "from graph_bandit_helper_tools import *\n",
    "import numpy as np\n",
    "from known_rewards_helper_functions import get_Q_table\n",
    "from tqdm import trange\n",
    "from functools import partial\n",
    "\n",
    "import pickle as pkl\n",
    "\n",
    "%load_ext autoreload\n",
    "%autoreload 2\n",
    "\n",
    "SEED = 181731"
   ]
  },
  {
   "cell_type": "markdown",
   "id": "bf08f891-ca49-40cd-ad06-709e7da53c0b",
   "metadata": {},
   "source": [
    "# Core utilities"
   ]
  },
  {
   "cell_type": "code",
   "execution_count": 2,
   "id": "6093504b-1bd5-4fbc-80fe-770eb3184e10",
   "metadata": {},
   "outputs": [],
   "source": [
    "def visit_all_nodes(gb):\n",
    "    n_nodes  = len(gb.G)\n",
    "    while True:\n",
    "        unvisited = [i for i in range(n_nodes) if gb.nodes[i]['n_visits']==0]\n",
    "        \n",
    "        if len(unvisited)==0:\n",
    "            break\n",
    "\n",
    "        dest = unvisited[0]\n",
    "        \n",
    "        next_path = nx.shortest_path(gb.G,gb.state,dest)\n",
    "        if len(next_path)==1:\n",
    "            gb.step(dest)\n",
    "        else:\n",
    "            for s in next_path[1:]:\n",
    "                gb.step(s)\n",
    "\n",
    "def get_ucb(gb,nodes=None):\n",
    "    \n",
    "    if nodes is None:\n",
    "        nodes = gb.nodes\n",
    "    ave_reward = [np.mean(gb.nodes[i]['r_hist']) for i in nodes] \n",
    "    nm = [gb.nodes[i]['n_visits'] for i in nodes]\n",
    "    \n",
    "    tm = len(gb.visitedStates)\n",
    "    ucb = ave_reward + np.sqrt(2*np.log(tm)/nm)\n",
    "    \n",
    "    return ucb\n",
    "\n",
    "\n",
    "def get_ucb_Q_table(gb):\n",
    "     \n",
    "    ucb = get_ucb(gb)\n",
    "    \n",
    "    gap = np.sort(list(set(ucb)))[-1]-np.sort(list(set(ucb)))[-2]\n",
    "\n",
    "    TG = nx.diameter(gb.G)*np.max(ucb)/gap\n",
    "\n",
    "    Q,k, _ = get_Q_table(gb.G,ucb,TG)\n",
    "    return Q\n",
    "\n",
    "\n",
    "def train_agent(n_samples,T,G,means, init_node,execute_agent):\n",
    "    regrets = np.zeros((n_samples,T))\n",
    "    for i in trange(n_samples):\n",
    "\n",
    "        env = graph_bandit_RL.GraphBandit(means[i],  G)\n",
    "\n",
    "        ## Visit all nodes\n",
    "        visit_all_nodes(env)\n",
    "\n",
    "        H0 = len(env.visitedStates)\n",
    "\n",
    "        # Start learning\n",
    "\n",
    "        env.state = init_node\n",
    "\n",
    "        while len(env.visitedStates)-H0<T:\n",
    "            execute_agent(env)\n",
    "            \n",
    "        # print(env.visitedStates.shape,regrets.shape)\n",
    "            \n",
    "        regrets[i,:]= env.expectedRegret()[:T]\n",
    "        \n",
    "    return regrets"
   ]
  },
  {
   "cell_type": "markdown",
   "id": "cb4447dd-ec53-45a0-a18c-b1d90f8c0fe1",
   "metadata": {},
   "source": [
    "# Learning algorithms"
   ]
  },
  {
   "cell_type": "code",
   "execution_count": 3,
   "id": "b79d79e6-18fa-46f4-96c3-0d0f1d7bc36e",
   "metadata": {},
   "outputs": [],
   "source": [
    "def doubling_agent(env):\n",
    "    ucb = get_ucb(env)\n",
    "    # Compute Q table.\n",
    "    Q = get_ucb_Q_table(env)\n",
    "\n",
    "    # Travel to the node with the highest UCB\n",
    "    while ucb[env.state] < np.max(ucb):\n",
    "        next_s = np.argmax(Q[env.state,:])\n",
    "        env.step(next_s)\n",
    "\n",
    "    target_count = 0+env.nodes[env.state]['n_visits']\n",
    "    # Keep sampling the best UCB node until its number of samples doubles\n",
    "    for _ in range(target_count):\n",
    "        env.step(env.state)\n",
    "\n",
    "def local_ucb_agent(env):\n",
    "    neighbors = [_ for _ in env.G[env.state]]\n",
    "\n",
    "    neighbor_ucb = get_ucb(env,neighbors)\n",
    "\n",
    "    best_nb = neighbors[np.argmax(neighbor_ucb)]\n",
    "\n",
    "    env.step(best_nb)\n",
    "\n",
    "def local_ts_agent(env,\n",
    "                    var_0 = 0.5,\n",
    "                    mu_0 = 5,\n",
    "                    var = 0.5):\n",
    "\n",
    "    neighbors = [_ for _ in env.G[env.state]]\n",
    "    \n",
    "\n",
    "    # Bayesian estimation of mu and var estimation with Gaussian Prior\n",
    "\n",
    "    xsum = np.array([np.sum(env.nodes[i]['r_hist']) for i in neighbors])\n",
    "    n = np.array([env.nodes[i]['n_visits'] for i in neighbors])\n",
    "\n",
    "    var_1 = 1/(var_0 + n/var) \n",
    "    mu_1 = var_1 * (mu_0/var_0 + xsum/var)\n",
    "\n",
    "    # Posterior sampling\n",
    "    mu_sample = np.random.normal(mu_1,np.sqrt(var_1))\n",
    "\n",
    "    \n",
    "    # Take a step in the environment\n",
    "    best_nb = neighbors[np.argmax(mu_sample)]\n",
    "    env.step(best_nb)\n",
    "    \n",
    "def local_greedy_agent(env,\n",
    "                    epsilon0=1,var_0 = 0.5,\n",
    "                    mu_0 = 5,\n",
    "                    var = 0.5):\n",
    "\n",
    "    neighbors = [_ for _ in env.G[env.state]]\n",
    "    \n",
    "    # epsilon = epsilon0 / (len(env.visitedStates)+1)\n",
    "    epsilon = epsilon0\n",
    "    \n",
    "    if np.random.rand()<epsilon:\n",
    "        env.step(np.random.choice(neighbors))\n",
    "    else:\n",
    "         # Bayesian estimation of mu and var estimation with Gaussian Prior\n",
    "\n",
    "        xsum = np.array([np.sum(env.nodes[i]['r_hist']) for i in neighbors])\n",
    "        n = np.array([env.nodes[i]['n_visits'] for i in neighbors])\n",
    "\n",
    "        var_1 = 1/(var_0 + n/var) \n",
    "        mu_1 = var_1 * (mu_0/var_0 + xsum/var)\n",
    "        \n",
    "        # Take a step in the environment\n",
    "        best_nb = neighbors[np.argmax(mu_1)]\n",
    "        env.step(best_nb)"
   ]
  },
  {
   "cell_type": "code",
   "execution_count": 4,
   "id": "ec358afd-164f-453a-8a90-5fb2b301213b",
   "metadata": {},
   "outputs": [
    {
     "name": "stderr",
     "output_type": "stream",
     "text": [
      "<>:8: DeprecationWarning: invalid escape sequence \\e\n"
     ]
    }
   ],
   "source": [
    "def plotRegrets(allRegrets, titles=None, save_fig=None):\n",
    "    \"\"\"\n",
    "    param allRegrets: list of dictionaries of regrets(samples, time_steps) for various algorithms and runs\n",
    "    \"\"\"\n",
    "    nPlots = len(allRegrets)\n",
    "    sns.set()\n",
    "    \n",
    "    labels = {'greedy': 'Local $\\epsilon$-greedy', 'thompson': 'Local TS', 'UCB': 'Local UCB','Q_learning': 'Q-learning',\\\n",
    "              'Our Algorithm':'Our Algorithm'}\n",
    "    styles = {'greedy': 'dashed', 'thompson': 'dashed', 'UCB': 'dashed','Q_learning': 'dotted',\\\n",
    "              'Our Algorithm':'solid'}\n",
    "    colors = {'greedy': 'b', 'thompson': 'r', 'UCB': 'g','Q_learning': 'r',\\\n",
    "              'Our Algorithm':'k'}\n",
    "    keys = allRegrets[0].keys()\n",
    "    \n",
    "\n",
    "    if nPlots == 1:\n",
    "        regrets = allRegrets[0]\n",
    "        for i, key in enumerate(keys):\n",
    "            regret = regrets[key]\n",
    "            regret = np.cumsum(regret, axis=1)\n",
    "            regret = np.mean(regret, axis=0)\n",
    "            plt.plot([i for i in range(1,len(regret)+1)],regret, c=colors[key], linestyle = styles[key], label=labels[key],\\\n",
    "                    linewidth=3)\n",
    "        if titles is not None:    \n",
    "            plt.title(titles[0])\n",
    "    else:\n",
    "        fig, axes = plt.subplots(2, 3, figsize=(17,10))\n",
    "        for j, regrets in enumerate(allRegrets):\n",
    "            for i, key in enumerate(regrets.keys()):\n",
    "                regret = regrets[key]\n",
    "                regret = np.cumsum(regret, axis=1)\n",
    "                df = pd.DataFrame(np.transpose(regret))\n",
    "                df.columns = [labels[key] for _ in range(regret.shape[0])]\n",
    "                if j<3:\n",
    "                    sns.lineplot(ax = axes[0,j], data=df, ci=None, palette=[colors[key]])\n",
    "                    axes[0,j].set_title(titles[j])\n",
    "                else:\n",
    "                    sns.lineplot(ax = axes[1,j%3], data=df, ci=None, palette=[colors[key]])\n",
    "                    axes[1,j%3].set_title(titles[j])\n",
    "    plt.legend(loc='upper center', ncol=2, bbox_to_anchor=(0.5, 1.45), fontsize=16)\n",
    "    plt.xlabel('$t$', fontsize=20)\n",
    "    plt.ylabel('Expected regret', fontsize=20)\n",
    "    plt.tick_params(labelsize=20)\n",
    "    plt.style.use('seaborn-dark-palette')\n",
    "    if save_fig is not None:\n",
    "        plt.savefig('Figures/'+save_fig, bbox_inches = 'tight')\n",
    "    plt.show()"
   ]
  },
  {
   "cell_type": "markdown",
   "id": "4d3c2bfb",
   "metadata": {},
   "source": [
    "### Define parameters"
   ]
  },
  {
   "cell_type": "markdown",
   "id": "a6d77bd7",
   "metadata": {},
   "source": [
    "Define the following parameters:  \n",
    "$\\texttt{T}:$ game length  \n",
    "$\\texttt{n_samples}:$ number of games to run   \n",
    "$\\texttt{episodes}:$ number of episodes; Let this be 1 for now \n",
    "$\\texttt{n_nodes}:$ number of nodes in graph. \n",
    "$\\texttt{mu_size}:$ the node means are drawn as $\\mu\\sim \\texttt{mu_size}\\times \\mathcal{N}(0,1)$   \n",
    "$\\texttt{sigma_size}:$ the node standard deviations are set to $\\texttt{sigma_size}$ \n",
    "$\\texttt{epsilon}:$ exploration parameter (only applicable for Q-learning algorithms)  \n",
    "$\\texttt{epsilon_discount}:$ exploration discount parameter (only applicable for Q-learning algorithms)  \n",
    "$\\texttt{algorithms}:$ the algorithms to run. \n",
    "\n",
    "\n",
    " \n",
    "\n"
   ]
  },
  {
   "cell_type": "code",
   "execution_count": 5,
   "id": "2d105c61",
   "metadata": {},
   "outputs": [],
   "source": [
    "n_samples = 100\n",
    "episodes = 1\n",
    "n_nodes = 10\n",
    "mu_size = 1\n",
    "sigma_size = 1\n",
    "\n",
    "# For Q-learning\n",
    "\n",
    "epsilon = 0.9\n",
    "epsilon_discount=0.99\n",
    "\n",
    "init_node = 0"
   ]
  },
  {
   "cell_type": "markdown",
   "id": "727ae647",
   "metadata": {},
   "source": [
    "# Line graph"
   ]
  },
  {
   "cell_type": "code",
   "execution_count": 6,
   "id": "f316c3a0",
   "metadata": {},
   "outputs": [
    {
     "data": {
      "image/png": "[encoded data removed]",
      "text/plain": [
       "<Figure size 432x288 with 1 Axes>"
      ]
     },
     "metadata": {},
     "output_type": "display_data"
    }
   ],
   "source": [
    "T = 1200\n",
    "\n",
    "np.random.seed(SEED)\n",
    "n_nodes = 10\n",
    "G = return_graph('line', n_nodes)\n",
    "draw_graph(G)"
   ]
  },
  {
   "cell_type": "code",
   "execution_count": 7,
   "id": "da7482e1-4a94-4b24-bf18-dcbdc822dc01",
   "metadata": {
    "tags": []
   },
   "outputs": [],
   "source": [
    "np.random.seed(SEED)\n",
    "means = np.random.uniform(low=0.5,high=9.5,size=(n_samples,n_nodes))"
   ]
  },
  {
   "cell_type": "code",
   "execution_count": 8,
   "id": "8e1e2abb-b275-4edf-9e5a-8d48ca154bbe",
   "metadata": {},
   "outputs": [],
   "source": [
    "line_regrets = {}"
   ]
  },
  {
   "cell_type": "code",
   "execution_count": 9,
   "id": "37783261-5fb4-439c-986e-31dcfa39c409",
   "metadata": {
    "tags": []
   },
   "outputs": [
    {
     "name": "stderr",
     "output_type": "stream",
     "text": [
      "100%|█████████████████████████████████████████| 100/100 [00:17<00:00,  5.69it/s]\n",
      "100%|█████████████████████████████████████████| 100/100 [00:15<00:00,  6.26it/s]\n"
     ]
    }
   ],
   "source": [
    "\n",
    "# line_regrets['greedy'] = train_agent(n_samples,T,G,means, stdevs,init_node,partial(local_greedy_agent,epsilon0=0.05))\n",
    "\n",
    "line_regrets['thompson'] = train_agent(n_samples,T,G,means, init_node,local_ts_agent)\n",
    "\n",
    "line_regrets['UCB'] = train_agent(n_samples,T,G,means, init_node,local_ucb_agent)\n"
   ]
  },
  {
   "cell_type": "code",
   "execution_count": 10,
   "id": "be8753f6-039f-4235-a9e9-a2f84a0fcf06",
   "metadata": {},
   "outputs": [
    {
     "name": "stderr",
     "output_type": "stream",
     "text": [
      "100%|█████████████████████████████████████████| 100/100 [00:23<00:00,  4.18it/s]\n"
     ]
    }
   ],
   "source": [
    "reg,_=testQLearning(T, n_samples, epsilon, G,\\\n",
    "                 means=means, mean_magnitude=1, stdev_magnitude=1,\\\n",
    "                 init_nodes=init_node\n",
    "                )\n",
    "\n",
    "line_regrets['Q_learning'] = reg"
   ]
  },
  {
   "cell_type": "code",
   "execution_count": null,
   "id": "cbc2f78a-e72c-4279-8e06-1737e17c5b26",
   "metadata": {},
   "outputs": [
    {
     "name": "stderr",
     "output_type": "stream",
     "text": [
      " 87%|████████████████████████████████████▌     | 87/100 [00:03<00:00, 25.06it/s]"
     ]
    }
   ],
   "source": [
    "line_regrets['Our Algorithm'] = train_agent(n_samples,T,G,means, init_node,doubling_agent)\n"
   ]
  },
  {
   "cell_type": "code",
   "execution_count": null,
   "id": "ddd72021-6ec4-406a-a4db-45cdac1c2bff",
   "metadata": {},
   "outputs": [],
   "source": [
    "with open('Data/line.pkl', 'wb') as file:\n",
    "    pkl.dump(line_regrets,file)"
   ]
  },
  {
   "cell_type": "code",
   "execution_count": null,
   "id": "6a61f751-cc29-4a92-96cf-7a92e0d92c01",
   "metadata": {},
   "outputs": [],
   "source": [
    "plt.figure(dpi=100)\n",
    "\n",
    "plotRegrets([line_regrets], titles=['Line Graph'])"
   ]
  },
  {
   "cell_type": "markdown",
   "id": "ee5c8edf-9c8c-4e2e-b3e0-4c1541e76bab",
   "metadata": {},
   "source": [
    "# Circle graph"
   ]
  },
  {
   "cell_type": "code",
   "execution_count": null,
   "id": "64cabdc6-6fd1-4c84-9b11-58ea44b688f5",
   "metadata": {},
   "outputs": [],
   "source": [
    "T = 1000\n",
    "\n",
    "np.random.seed(SEED)\n",
    "n_nodes = 10\n",
    "G = return_graph('circle', n_nodes)\n",
    "draw_graph(G)"
   ]
  },
  {
   "cell_type": "code",
   "execution_count": null,
   "id": "d0e58f9b-9a05-4cbf-bbac-b7c57c98cd0f",
   "metadata": {},
   "outputs": [],
   "source": [
    "line_regrets = {}"
   ]
  },
  {
   "cell_type": "code",
   "execution_count": null,
   "id": "b9bc7342-8b12-4112-b032-67d9b88b4e55",
   "metadata": {
    "tags": []
   },
   "outputs": [],
   "source": [
    "\n",
    "# line_regrets['greedy'] = train_agent(n_samples,T,G,means, stdevs,init_node,partial(local_greedy_agent,epsilon0=0.05))\n",
    "\n",
    "line_regrets['thompson'] = train_agent(n_samples,T,G,means, init_node,local_ts_agent)\n",
    "\n",
    "line_regrets['UCB'] = train_agent(n_samples,T,G,means, init_node,local_ucb_agent)\n"
   ]
  },
  {
   "cell_type": "code",
   "execution_count": null,
   "id": "58b21ecb-24c9-447d-a050-fa14a72d699c",
   "metadata": {},
   "outputs": [],
   "source": [
    "reg,_=testQLearning(T, n_samples, epsilon, G,\\\n",
    "                 means=means, mean_magnitude=1, stdev_magnitude=1,\\\n",
    "                 init_nodes=init_node\n",
    "                )\n",
    "\n",
    "line_regrets['Q_learning'] = reg"
   ]
  },
  {
   "cell_type": "code",
   "execution_count": null,
   "id": "29d8fb00-a039-4c09-9a5c-169519d5129b",
   "metadata": {},
   "outputs": [],
   "source": [
    "line_regrets['Our Algorithm'] = train_agent(n_samples,T,G,means, init_node,doubling_agent)\n"
   ]
  },
  {
   "cell_type": "code",
   "execution_count": null,
   "id": "a78ccccd-0fa5-4f4b-abf5-54a4090cf407",
   "metadata": {},
   "outputs": [],
   "source": [
    "with open('Data/circle.pkl', 'wb') as file:\n",
    "    pkl.dump(line_regrets,file)"
   ]
  },
  {
   "cell_type": "code",
   "execution_count": null,
   "id": "688a8846-2a4f-4727-a25b-477d66b646b9",
   "metadata": {},
   "outputs": [],
   "source": [
    "plt.figure(dpi=100)\n",
    "\n",
    "plotRegrets([line_regrets], titles=['Circle Graph'])"
   ]
  },
  {
   "cell_type": "markdown",
   "id": "acd79c56-78d0-4f7c-a7fd-7be0e05597b5",
   "metadata": {},
   "source": [
    "# Tree graph"
   ]
  },
  {
   "cell_type": "code",
   "execution_count": null,
   "id": "cffc698d-c083-418e-aa02-3f826e44b108",
   "metadata": {},
   "outputs": [],
   "source": [
    "T = 1000\n",
    "\n",
    "np.random.seed(SEED)\n",
    "n_nodes = 10\n",
    "G = return_graph('tree', n_nodes,n_children = 2)\n",
    "draw_graph(G)"
   ]
  },
  {
   "cell_type": "code",
   "execution_count": null,
   "id": "bae0920e-cd29-415f-821e-dcbbefc2f782",
   "metadata": {},
   "outputs": [],
   "source": [
    "np.random.seed(SEED)\n",
    "means = np.random.uniform(low=0.5,high=9.5,size=(n_samples,n_nodes))"
   ]
  },
  {
   "cell_type": "code",
   "execution_count": null,
   "id": "22996838-a3cd-4b83-b820-6807f2e340cb",
   "metadata": {},
   "outputs": [],
   "source": [
    "line_regrets = {}"
   ]
  },
  {
   "cell_type": "code",
   "execution_count": null,
   "id": "eb84227c-ad78-4047-a676-11f36b1ffe43",
   "metadata": {
    "tags": []
   },
   "outputs": [],
   "source": [
    "\n",
    "# line_regrets['greedy'] = train_agent(n_samples,T,G,means, stdevs,init_node,partial(local_greedy_agent,epsilon0=0.05))\n",
    "\n",
    "line_regrets['thompson'] = train_agent(n_samples,T,G,means, init_node,local_ts_agent)\n",
    "\n",
    "line_regrets['UCB'] = train_agent(n_samples,T,G,means, init_node,local_ucb_agent)\n"
   ]
  },
  {
   "cell_type": "code",
   "execution_count": null,
   "id": "7679d5d1-90ae-46fd-915c-5359f1c5c8e8",
   "metadata": {},
   "outputs": [],
   "source": [
    "reg,_=testQLearning(T, n_samples, epsilon, G,\\\n",
    "                 means=means, mean_magnitude=1, stdev_magnitude=1,\\\n",
    "                 init_nodes=init_node\n",
    "                )\n",
    "\n",
    "line_regrets['Q_learning'] = reg"
   ]
  },
  {
   "cell_type": "code",
   "execution_count": null,
   "id": "1b712694-1868-41dd-9f7f-298b74b10899",
   "metadata": {},
   "outputs": [],
   "source": [
    "line_regrets['Our Algorithm'] = train_agent(n_samples,T,G,means, init_node,doubling_agent)\n"
   ]
  },
  {
   "cell_type": "code",
   "execution_count": null,
   "id": "a8e33e80-936c-4bdb-9438-36a02bd9bc80",
   "metadata": {},
   "outputs": [],
   "source": [
    "with open('Data/tree.pkl', 'wb') as file:\n",
    "    pkl.dump(line_regrets,file)"
   ]
  },
  {
   "cell_type": "code",
   "execution_count": null,
   "id": "e343c799-d123-487e-9d23-ce644461cd83",
   "metadata": {},
   "outputs": [],
   "source": [
    "plt.figure(dpi=100)\n",
    "\n",
    "plotRegrets([line_regrets], titles=['Tree Graph'])"
   ]
  },
  {
   "cell_type": "markdown",
   "id": "2b850b39-c29e-4ab1-9c45-f397b597b8f9",
   "metadata": {},
   "source": [
    "# Grid graph"
   ]
  },
  {
   "cell_type": "code",
   "execution_count": null,
   "id": "c0f19c80-a1a0-4fb4-a3bd-61b39fdd6dd6",
   "metadata": {},
   "outputs": [],
   "source": [
    "T = 1000\n",
    "\n",
    "np.random.seed(SEED)\n",
    "n_nodes = 16\n",
    "G = return_graph('maze')\n",
    "draw_graph(G)"
   ]
  },
  {
   "cell_type": "code",
   "execution_count": null,
   "id": "205a4c8f-880d-4de3-93f1-fc06ff3ddc30",
   "metadata": {},
   "outputs": [],
   "source": [
    "np.random.seed(SEED)\n",
    "means = np.random.uniform(low=0.5,high=9.5,size=(n_samples,n_nodes))"
   ]
  },
  {
   "cell_type": "code",
   "execution_count": null,
   "id": "c15dd6c6-422e-45d2-9ff6-6202713ed7c3",
   "metadata": {},
   "outputs": [],
   "source": [
    "line_regrets = {}"
   ]
  },
  {
   "cell_type": "code",
   "execution_count": null,
   "id": "5481f1e3-05e2-47f1-acfd-31b63c8899e0",
   "metadata": {
    "tags": []
   },
   "outputs": [],
   "source": [
    "line_regrets['thompson'] = train_agent(n_samples,T,G,means, init_node,local_ts_agent)\n",
    "\n",
    "line_regrets['UCB'] = train_agent(n_samples,T,G,means, init_node,local_ucb_agent)\n"
   ]
  },
  {
   "cell_type": "code",
   "execution_count": null,
   "id": "64791262-8ec7-48a1-92f4-1196c5d9e88f",
   "metadata": {},
   "outputs": [],
   "source": [
    "reg,_=testQLearning(T, n_samples, epsilon, G,\\\n",
    "                 means=means, mean_magnitude=1, stdev_magnitude=1,\\\n",
    "                 init_nodes=init_node\n",
    "                )\n",
    "\n",
    "line_regrets['Q_learning'] = reg"
   ]
  },
  {
   "cell_type": "code",
   "execution_count": null,
   "id": "85ea7d69-d1f9-40ec-89a5-baa578f9db61",
   "metadata": {},
   "outputs": [],
   "source": [
    "line_regrets['Our Algorithm'] = train_agent(n_samples,T,G,means, init_node,doubling_agent)\n"
   ]
  },
  {
   "cell_type": "code",
   "execution_count": null,
   "id": "3bd3330c-52db-458e-b3d7-de404c588e4d",
   "metadata": {},
   "outputs": [],
   "source": [
    "with open('Data/grid.pkl', 'wb') as file:\n",
    "    pkl.dump(line_regrets,file)"
   ]
  },
  {
   "cell_type": "code",
   "execution_count": null,
   "id": "71623f8f-a74f-4837-83b9-12ca21d39f0e",
   "metadata": {},
   "outputs": [],
   "source": [
    "plt.figure(dpi=100)\n",
    "\n",
    "plotRegrets([line_regrets], titles=['Grid Graph'])"
   ]
  },
  {
   "cell_type": "markdown",
   "id": "50fb4300-369a-4df1-8a32-a17f3ecdb536",
   "metadata": {},
   "source": [
    "# Star graph"
   ]
  },
  {
   "cell_type": "code",
   "execution_count": null,
   "id": "c0fa93d6-9a5f-41f0-9e52-85a4cf03d3e7",
   "metadata": {},
   "outputs": [],
   "source": [
    "T = 1200\n",
    "\n",
    "np.random.seed(SEED)\n",
    "\n",
    "\n",
    "n_branches = 9\n",
    "n_layers = 2\n",
    "\n",
    "G = nx.Graph()\n",
    "\n",
    "G.add_edge(0,0)\n",
    "for l in range(n_layers):\n",
    "    for b in range(n_branches):\n",
    "        G.add_edge(max(b+1+(l-1)*n_branches,0),b+1+l*n_branches)\n",
    "\n",
    "for i in G.nodes:\n",
    "    G.add_edge(i,i)\n",
    "    \n",
    "# G = return_graph('star',10)\n",
    "draw_graph(G)\n",
    "\n",
    "n_nodes = G.number_of_nodes()"
   ]
  },
  {
   "cell_type": "code",
   "execution_count": null,
   "id": "6b72ab4e-b154-4acc-b558-b9f66bf434dc",
   "metadata": {},
   "outputs": [],
   "source": [
    "np.random.seed(SEED)\n",
    "means = np.random.uniform(low=0.5,high=9.5,size=(n_samples,n_nodes))"
   ]
  },
  {
   "cell_type": "code",
   "execution_count": null,
   "id": "3b39f473-188d-4b68-a881-21b7e36732d0",
   "metadata": {},
   "outputs": [],
   "source": [
    "line_regrets = {}"
   ]
  },
  {
   "cell_type": "code",
   "execution_count": null,
   "id": "f1b4c543-cbab-45e9-9862-48bd3cc5c611",
   "metadata": {
    "tags": []
   },
   "outputs": [],
   "source": [
    "line_regrets['thompson'] = train_agent(n_samples,T,G,means, init_node,local_ts_agent)\n",
    "\n",
    "line_regrets['UCB'] = train_agent(n_samples,T,G,means, init_node,local_ucb_agent)\n"
   ]
  },
  {
   "cell_type": "code",
   "execution_count": null,
   "id": "09f7ea5d-3859-44db-8c89-8ce26f901dd8",
   "metadata": {},
   "outputs": [],
   "source": [
    "reg,_=testQLearning(T, n_samples, epsilon, G,\\\n",
    "                 means=means, mean_magnitude=1, stdev_magnitude=1,\\\n",
    "                 init_nodes=init_node\n",
    "                )\n",
    "\n",
    "line_regrets['Q_learning'] = reg"
   ]
  },
  {
   "cell_type": "code",
   "execution_count": null,
   "id": "92652ffd-3908-4196-a165-000dbc7a58d4",
   "metadata": {},
   "outputs": [],
   "source": [
    "line_regrets['Our Algorithm'] = train_agent(n_samples,T,G,means, init_node,doubling_agent)\n"
   ]
  },
  {
   "cell_type": "code",
   "execution_count": null,
   "id": "bd8d8101-ef7f-4988-b2fe-775ec6a48546",
   "metadata": {},
   "outputs": [],
   "source": [
    "with open('Data/star.pkl', 'wb') as file:\n",
    "    pkl.dump(line_regrets,file)"
   ]
  },
  {
   "cell_type": "code",
   "execution_count": null,
   "id": "03b3021a-1fb9-4ad5-85d3-3e7ba38fe156",
   "metadata": {},
   "outputs": [],
   "source": [
    "plt.figure(dpi=100)\n",
    "\n",
    "plotRegrets([line_regrets], titles=['Star Graph'])"
   ]
  },
  {
   "cell_type": "markdown",
   "id": "01fc6bd6",
   "metadata": {},
   "source": [
    "# Fully connected graph"
   ]
  },
  {
   "cell_type": "code",
   "execution_count": null,
   "id": "f50139ba",
   "metadata": {},
   "outputs": [],
   "source": [
    "T = 1000\n",
    "np.random.seed(SEED)\n",
    "n_nodes = 10\n",
    "G = return_graph('fully_connected', n_nodes)\n",
    "draw_graph(G)"
   ]
  },
  {
   "cell_type": "code",
   "execution_count": null,
   "id": "64c34f8f-8790-4e44-996a-965ac090a9ee",
   "metadata": {},
   "outputs": [],
   "source": [
    "np.random.seed(SEED)\n",
    "means = np.random.uniform(low=0.5,high=9.5,size=(n_samples,n_nodes))"
   ]
  },
  {
   "cell_type": "code",
   "execution_count": null,
   "id": "06f4dd01-a6da-486b-bb78-540c64eced2e",
   "metadata": {},
   "outputs": [],
   "source": [
    "line_regrets = {}"
   ]
  },
  {
   "cell_type": "code",
   "execution_count": null,
   "id": "442bf980-8d23-4141-ba94-bc002a913808",
   "metadata": {
    "tags": []
   },
   "outputs": [],
   "source": [
    "\n",
    "# line_regrets['greedy'] = train_agent(n_samples,T,G,means, stdevs,init_node,partial(local_greedy_agent,epsilon0=0.05))\n",
    "\n",
    "line_regrets['thompson'] = train_agent(n_samples,T,G,means, init_node,local_ts_agent)\n",
    "\n",
    "line_regrets['UCB'] = train_agent(n_samples,T,G,means, init_node,local_ucb_agent)\n"
   ]
  },
  {
   "cell_type": "code",
   "execution_count": null,
   "id": "69416873-c998-4979-af93-e16a3ba42192",
   "metadata": {},
   "outputs": [],
   "source": [
    "reg,_=testQLearning(T, n_samples, epsilon, G,\\\n",
    "                 means=means, mean_magnitude=1, stdev_magnitude=1,\\\n",
    "                 init_nodes=init_node\n",
    "                )\n",
    "\n",
    "line_regrets['Q_learning'] = reg"
   ]
  },
  {
   "cell_type": "code",
   "execution_count": null,
   "id": "b9e9c8ac-0c32-49c8-8a8f-9c9e62d9cce2",
   "metadata": {},
   "outputs": [],
   "source": [
    "line_regrets['Our Algorithm'] = train_agent(n_samples,T,G,means, init_node,doubling_agent)\n"
   ]
  },
  {
   "cell_type": "code",
   "execution_count": null,
   "id": "e3e371fe-e423-44cd-bc4a-298314d99983",
   "metadata": {},
   "outputs": [],
   "source": [
    "with open('Data/fully_connected.pkl', 'wb') as file:\n",
    "    pkl.dump(line_regrets,file)"
   ]
  },
  {
   "cell_type": "code",
   "execution_count": null,
   "id": "0db9d49b-906f-46c1-8973-1f189d1fe5eb",
   "metadata": {},
   "outputs": [],
   "source": [
    "plt.figure(dpi=100)\n",
    "\n",
    "plotRegrets([line_regrets], titles=['Fully Connected Graph'])"
   ]
  }
 ],
 "metadata": {
  "kernelspec": {
   "display_name": "Python 3 (ipykernel)",
   "language": "python",
   "name": "python3"
  },
  "language_info": {
   "codemirror_mode": {
    "name": "ipython",
    "version": 3
   },
   "file_extension": ".py",
   "mimetype": "text/x-python",
   "name": "python",
   "nbconvert_exporter": "python",
   "pygments_lexer": "ipython3",
   "version": "3.9.12"
  }
 },
 "nbformat": 4,
 "nbformat_minor": 5
}
