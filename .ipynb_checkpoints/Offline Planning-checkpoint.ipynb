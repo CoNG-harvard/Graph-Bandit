{
 "cells": [
  {
   "cell_type": "markdown",
   "id": "f7d6cd11",
   "metadata": {},
   "source": [
    "### Import modules"
   ]
  },
  {
   "cell_type": "code",
   "execution_count": 1,
   "id": "3da4ac06",
   "metadata": {},
   "outputs": [],
   "source": [
    "import networkx as nx\n",
    "import graph_bandit_RL\n",
    "from graph_bandit_helper_tools import *\n",
    "np.random.seed(1)\n",
    "from known_rewards_helper_functions import get_Q_table,get_paths\n",
    "\n",
    "%load_ext autoreload\n",
    "%autoreload 2"
   ]
  },
  {
   "cell_type": "code",
   "execution_count": 18,
   "id": "3b6b655b-225f-4c22-b500-561bed7234dc",
   "metadata": {},
   "outputs": [],
   "source": [
    "def graph_get_policy(G_in,means):\n",
    "    G = G_in.copy()\n",
    "    \n",
    "    sorted_mean = np.sort(list(set(means)))\n",
    "    assert(len(sorted_mean)>=2)\n",
    "    Delta = sorted_mean[-1]-sorted_mean[-2]\n",
    "    D = nx.diameter(G)\n",
    "    mu_star = np.max(means)\n",
    "    Q,n_iter,n_calls=get_Q_table(G, means, T=D*mu_star/Delta)\n",
    "    \n",
    "    policy = {}\n",
    "    for s in G:\n",
    "        neighbors = [_ for _ in G.neighbors(s)]\n",
    "        neighbor_cost = [Q[s,nb] for nb in neighbors]\n",
    "        policy[s] = neighbors[np.argmax(neighbor_cost)]\n",
    "    return policy,n_calls,n_iter"
   ]
  },
  {
   "cell_type": "code",
   "execution_count": 69,
   "id": "6a69e3a5-95c3-47f6-8a19-a65a7f72b210",
   "metadata": {},
   "outputs": [],
   "source": [
    "def DP_get_policy(G_cyc,means):\n",
    "    G = G_cyc.copy()\n",
    "    G.remove_edges_from(nx.selfloop_edges(G_cyc))\n",
    "\n",
    "    # Assume no self-loops in this setting.\n",
    "    # cost at s: g(s)= mu*-mu(s)\n",
    "    # C(s,T) = min_{length<=T simple path(no loops) starting at s ending s*} \\sum_t g(s_t) =  \\min{C(s,T-1), \\min_{w in N_s} g(w)+C(w,T-1)}\n",
    "    # C(s*,0) = 0, C(v,0) = +inf if v!=s*.\n",
    "\n",
    "    mu_star = np.max(means)\n",
    "    s_star = np.argmax(means)\n",
    "\n",
    "    g = mu_star - means\n",
    "\n",
    "    n_nodes = G.number_of_nodes()\n",
    "\n",
    "    C0 = np.ones(n_nodes)*np.inf\n",
    "\n",
    "    C0[s_star] = 0\n",
    "\n",
    "    Cs = [C0]\n",
    "\n",
    "    # Value iteration for acyclic all-to-all weighted shortest path.\n",
    "    n_calls = 0\n",
    "    while True:\n",
    "        C = np.zeros(n_nodes)\n",
    "\n",
    "        for s in G:\n",
    "            n_calls+=1\n",
    "            C[s] = np.min([Cs[-1][w]+g[w] for w in G.neighbors(s)]+[Cs[-1][s]])\n",
    "\n",
    "        if np.all(C==Cs[-1]):\n",
    "            break\n",
    "        Cs.append(C)\n",
    "\n",
    "    C = Cs[-1]\n",
    "\n",
    "    # print(len(Cs))\n",
    "\n",
    "    policy = {}\n",
    "\n",
    "    # Compute the optimal policy from the cost table.\n",
    "    for s in G:\n",
    "        if not s==s_star:\n",
    "            neighbors = [_ for _ in G.neighbors(s)]\n",
    "            neighbor_total_cost = [g[nb]+C[nb] for nb in neighbors]\n",
    "            policy[s] = neighbors[np.argmin(neighbor_total_cost)]\n",
    "        else:\n",
    "            policy[s] = s\n",
    "    return policy,n_calls,len(Cs)"
   ]
  },
  {
   "cell_type": "code",
   "execution_count": 20,
   "id": "c7315f2e-a1ae-4050-979d-0d17dcf65154",
   "metadata": {},
   "outputs": [],
   "source": [
    "def dict_to_array(dic):\n",
    "    a = np.zeros(len(dic))\n",
    "    for key, val in dic.items():\n",
    "        a[key]=val\n",
    "    return a"
   ]
  },
  {
   "cell_type": "markdown",
   "id": "c1a1df7d",
   "metadata": {},
   "source": [
    "# Line Graph"
   ]
  },
  {
   "cell_type": "code",
   "execution_count": 82,
   "id": "c38c33e8-90b5-4214-901b-0a353aa9242f",
   "metadata": {},
   "outputs": [
    {
     "name": "stdout",
     "output_type": "stream",
     "text": [
      "2 2 2\n",
      "4 4 4\n",
      "6 6 6\n",
      "8 8 8\n",
      "10 10 10\n",
      "12 12 12\n",
      "14 14 14\n",
      "16 16 16\n",
      "18 18 18\n"
     ]
    }
   ],
   "source": [
    "node_num = range(2,20,2)\n",
    "\n",
    "G_compute = []\n",
    "DP_compute = []\n",
    "\n",
    "for n in node_num:\n",
    "    np.random.seed(773)\n",
    "    means = np.random.rand(n)\n",
    "    means[0]=0.99\n",
    "    means[-1]=1\n",
    "    G = return_graph('line',n)\n",
    "    # G = nx.erdos_renyi_graph(n,0.5)\n",
    "\n",
    "    pol1,nG,G_iter = graph_get_policy(G,means)\n",
    "    \n",
    "    G_compute.append(nG)\n",
    "\n",
    "    pol2,nDP,DP_iter = DP_get_policy(G,means)\n",
    "    \n",
    "    assert(np.all(dict_to_array(pol1)-dict_to_array(pol2)==0))\n",
    "    DP_compute.append(nDP)\n",
    "    \n",
    "    print(n,G_iter,DP_iter)"
   ]
  },
  {
   "cell_type": "code",
   "execution_count": 83,
   "id": "783fd601-4a50-45d2-a4a9-96bb24119c52",
   "metadata": {},
   "outputs": [
    {
     "data": {
      "text/plain": [
       "[<matplotlib.lines.Line2D at 0x1667c2f7308>]"
      ]
     },
     "execution_count": 83,
     "metadata": {},
     "output_type": "execute_result"
    },
    {
     "data": {
      "image/png": "[encoded data removed]",
      "text/plain": [
       "<Figure size 432x288 with 1 Axes>"
      ]
     },
     "metadata": {
      "needs_background": "light"
     },
     "output_type": "display_data"
    }
   ],
   "source": [
    "plt.plot(node_num,G_compute,color='red')"
   ]
  },
  {
   "cell_type": "code",
   "execution_count": 84,
   "id": "854a4db8-7e6f-4134-9827-c85d84452c14",
   "metadata": {},
   "outputs": [
    {
     "data": {
      "text/plain": [
       "[<matplotlib.lines.Line2D at 0x1667c599d08>]"
      ]
     },
     "execution_count": 84,
     "metadata": {},
     "output_type": "execute_result"
    },
    {
     "data": {
      "image/png": "[encoded data removed]",
      "text/plain": [
       "<Figure size 432x288 with 1 Axes>"
      ]
     },
     "metadata": {
      "needs_background": "light"
     },
     "output_type": "display_data"
    }
   ],
   "source": [
    "plt.plot(node_num,DP_compute,color = 'green')"
   ]
  },
  {
   "cell_type": "markdown",
   "id": "89b7d0c3-e9d0-40ab-8313-2805131fd8b2",
   "metadata": {},
   "source": [
    "# Star Graph"
   ]
  },
  {
   "cell_type": "code",
   "execution_count": 79,
   "id": "cfd57fc7-f1b5-4c7e-8837-d96b28d2e731",
   "metadata": {},
   "outputs": [
    {
     "name": "stdout",
     "output_type": "stream",
     "text": [
      "2 2 2\n",
      "4 3 3\n",
      "6 3 3\n",
      "8 3 3\n",
      "10 3 3\n",
      "12 3 3\n",
      "14 3 3\n",
      "16 3 3\n",
      "18 3 3\n"
     ]
    }
   ],
   "source": [
    "node_num = range(2,20,2)\n",
    "\n",
    "G_compute = []\n",
    "DP_compute = []\n",
    "\n",
    "for n in node_num:\n",
    "    np.random.seed(773)\n",
    "    means = np.random.rand(n)\n",
    "    means[0]=0.99\n",
    "    means[-1]=1\n",
    "    G = return_graph('star',n)\n",
    "    # G = nx.erdos_renyi_graph(n,0.5)\n",
    "\n",
    "    pol1,nG,G_iter = graph_get_policy(G,means)\n",
    "    \n",
    "    G_compute.append(nG)\n",
    "\n",
    "    pol2,nDP,DP_iter = DP_get_policy(G,means)\n",
    "    \n",
    "    assert(np.all(dict_to_array(pol1)-dict_to_array(pol2)==0))\n",
    "    DP_compute.append(nDP)\n",
    "    \n",
    "    print(n,G_iter,DP_iter)"
   ]
  },
  {
   "cell_type": "code",
   "execution_count": 80,
   "id": "2123d2bc-11b1-4d0b-802b-e25a9c1e3aab",
   "metadata": {},
   "outputs": [
    {
     "data": {
      "text/plain": [
       "[<matplotlib.lines.Line2D at 0x1667c4e2888>]"
      ]
     },
     "execution_count": 80,
     "metadata": {},
     "output_type": "execute_result"
    },
    {
     "data": {
      "image/png": "[encoded data removed]",
      "text/plain": [
       "<Figure size 432x288 with 1 Axes>"
      ]
     },
     "metadata": {
      "needs_background": "light"
     },
     "output_type": "display_data"
    }
   ],
   "source": [
    "plt.plot(node_num,G_compute,color='red')"
   ]
  },
  {
   "cell_type": "code",
   "execution_count": 81,
   "id": "983869dc-d8a6-4129-8feb-2e2e79b1dc92",
   "metadata": {},
   "outputs": [
    {
     "data": {
      "text/plain": [
       "[<matplotlib.lines.Line2D at 0x1667b8f8648>]"
      ]
     },
     "execution_count": 81,
     "metadata": {},
     "output_type": "execute_result"
    },
    {
     "data": {
      "image/png": "[encoded data removed]",
      "text/plain": [
       "<Figure size 432x288 with 1 Axes>"
      ]
     },
     "metadata": {
      "needs_background": "light"
     },
     "output_type": "display_data"
    }
   ],
   "source": [
    "plt.plot(node_num,DP_compute,color = 'green')"
   ]
  },
  {
   "cell_type": "markdown",
   "id": "70e59981-96e8-40db-bf17-44538a90eaef",
   "metadata": {},
   "source": [
    "# Fully-Connected Graph"
   ]
  },
  {
   "cell_type": "code",
   "execution_count": 85,
   "id": "64ea3bd5-96a2-41e1-9456-08d229b59443",
   "metadata": {},
   "outputs": [
    {
     "name": "stdout",
     "output_type": "stream",
     "text": [
      "2 2 2\n",
      "4 2 2\n",
      "6 2 2\n",
      "8 2 2\n",
      "10 2 2\n",
      "12 2 2\n",
      "14 2 2\n",
      "16 2 2\n",
      "18 2 2\n"
     ]
    }
   ],
   "source": [
    "node_num = range(2,20,2)\n",
    "\n",
    "G_compute = []\n",
    "DP_compute = []\n",
    "\n",
    "for n in node_num:\n",
    "    np.random.seed(773)\n",
    "    means = np.random.rand(n)\n",
    "    means[0]=0.99\n",
    "    means[-1]=1\n",
    "    G = return_graph('fully_connected',n)\n",
    "    # G = nx.erdos_renyi_graph(n,0.5)\n",
    "\n",
    "    pol1,nG,G_iter = graph_get_policy(G,means)\n",
    "    \n",
    "    G_compute.append(nG)\n",
    "\n",
    "    pol2,nDP,DP_iter = DP_get_policy(G,means)\n",
    "    \n",
    "    assert(np.all(dict_to_array(pol1)-dict_to_array(pol2)==0))\n",
    "    DP_compute.append(nDP)\n",
    "    \n",
    "    print(n,G_iter,DP_iter)"
   ]
  },
  {
   "cell_type": "code",
   "execution_count": 86,
   "id": "a0eab600-2cc1-4f0d-920a-9ea11ac2b47a",
   "metadata": {},
   "outputs": [
    {
     "data": {
      "text/plain": [
       "[<matplotlib.lines.Line2D at 0x1667c611a88>]"
      ]
     },
     "execution_count": 86,
     "metadata": {},
     "output_type": "execute_result"
    },
    {
     "data": {
      "image/png": "[encoded data removed]",
      "text/plain": [
       "<Figure size 432x288 with 1 Axes>"
      ]
     },
     "metadata": {
      "needs_background": "light"
     },
     "output_type": "display_data"
    }
   ],
   "source": [
    "plt.plot(node_num,G_compute,color='red')"
   ]
  },
  {
   "cell_type": "code",
   "execution_count": 87,
   "id": "af12a3a3-41bf-491f-91a5-bab511f537b2",
   "metadata": {},
   "outputs": [
    {
     "data": {
      "text/plain": [
       "[<matplotlib.lines.Line2D at 0x1667c67db48>]"
      ]
     },
     "execution_count": 87,
     "metadata": {},
     "output_type": "execute_result"
    },
    {
     "data": {
      "image/png": "[encoded data removed]",
      "text/plain": [
       "<Figure size 432x288 with 1 Axes>"
      ]
     },
     "metadata": {
      "needs_background": "light"
     },
     "output_type": "display_data"
    }
   ],
   "source": [
    "plt.plot(node_num,DP_compute,color = 'green')"
   ]
  },
  {
   "cell_type": "markdown",
   "id": "f6c05cae-8304-4805-b46d-013ec913750d",
   "metadata": {},
   "source": [
    "# Circle Graph"
   ]
  },
  {
   "cell_type": "code",
   "execution_count": 88,
   "id": "154f3f98-1dc9-41f8-b08c-e272594d7eb5",
   "metadata": {},
   "outputs": [
    {
     "name": "stdout",
     "output_type": "stream",
     "text": [
      "2 2 2\n",
      "4 3 3\n",
      "6 5 5\n",
      "8 5 5\n",
      "10 6 6\n",
      "12 7 7\n",
      "14 9 9\n",
      "16 11 11\n",
      "18 11 11\n"
     ]
    }
   ],
   "source": [
    "node_num = range(2,20,2)\n",
    "\n",
    "G_compute = []\n",
    "DP_compute = []\n",
    "\n",
    "for n in node_num:\n",
    "    np.random.seed(773)\n",
    "    means = np.random.rand(n)\n",
    "    means[0]=0.99\n",
    "    means[-1]=1\n",
    "    G = return_graph('circle',n)\n",
    "    # G = nx.erdos_renyi_graph(n,0.5)\n",
    "\n",
    "    pol1,nG,G_iter = graph_get_policy(G,means)\n",
    "    \n",
    "    G_compute.append(nG)\n",
    "\n",
    "    pol2,nDP,DP_iter = DP_get_policy(G,means)\n",
    "    \n",
    "    assert(np.all(dict_to_array(pol1)-dict_to_array(pol2)==0))\n",
    "    DP_compute.append(nDP)\n",
    "    \n",
    "    print(n,G_iter,DP_iter)"
   ]
  },
  {
   "cell_type": "code",
   "execution_count": 89,
   "id": "23c939ea-5664-46a7-9d0b-569d55a90397",
   "metadata": {},
   "outputs": [
    {
     "data": {
      "text/plain": [
       "[<matplotlib.lines.Line2D at 0x1667c6e7c08>]"
      ]
     },
     "execution_count": 89,
     "metadata": {},
     "output_type": "execute_result"
    },
    {
     "data": {
      "image/png": "[encoded data removed]",
      "text/plain": [
       "<Figure size 432x288 with 1 Axes>"
      ]
     },
     "metadata": {
      "needs_background": "light"
     },
     "output_type": "display_data"
    }
   ],
   "source": [
    "plt.plot(node_num,G_compute,color='red')"
   ]
  },
  {
   "cell_type": "code",
   "execution_count": 90,
   "id": "1aab1ff1-8476-4541-8c39-5a3fe1537409",
   "metadata": {},
   "outputs": [
    {
     "data": {
      "text/plain": [
       "[<matplotlib.lines.Line2D at 0x1667c74b688>]"
      ]
     },
     "execution_count": 90,
     "metadata": {},
     "output_type": "execute_result"
    },
    {
     "data": {
      "image/png": "[encoded data removed]",
      "text/plain": [
       "<Figure size 432x288 with 1 Axes>"
      ]
     },
     "metadata": {
      "needs_background": "light"
     },
     "output_type": "display_data"
    }
   ],
   "source": [
    "plt.plot(node_num,DP_compute,color = 'green')"
   ]
  }
 ],
 "metadata": {
  "kernelspec": {
   "display_name": "Python 3",
   "language": "python",
   "name": "python3"
  },
  "language_info": {
   "codemirror_mode": {
    "name": "ipython",
    "version": 3
   },
   "file_extension": ".py",
   "mimetype": "text/x-python",
   "name": "python",
   "nbconvert_exporter": "python",
   "pygments_lexer": "ipython3",
   "version": "3.7.6"
  }
 },
 "nbformat": 4,
 "nbformat_minor": 5
}
