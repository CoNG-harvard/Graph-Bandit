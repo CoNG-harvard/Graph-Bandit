{
 "cells": [
  {
   "cell_type": "markdown",
   "id": "f7d6cd11",
   "metadata": {},
   "source": [
    "### Import modules"
   ]
  },
  {
   "cell_type": "code",
   "execution_count": 1,
   "id": "3da4ac06",
   "metadata": {},
   "outputs": [],
   "source": [
    "import networkx as nx\n",
    "import graph_bandit_RL\n",
    "from graph_bandit_helper_tools import *\n",
    "import numpy as np\n",
    "from known_rewards_helper_functions import get_Q_table\n",
    "from tqdm import trange\n",
    "from functools import partial\n",
    "import pickle as pkl\n",
    "\n",
    "from labellines import labelLines,labelLine\n",
    "\n",
    "\n",
    "%load_ext autoreload\n",
    "%autoreload 2\n",
    "\n",
    "SEED = 181731"
   ]
  },
  {
   "cell_type": "markdown",
   "id": "09e01b34-1a88-4446-96fa-3ac7b186f7d7",
   "metadata": {},
   "source": [
    "# Core utilities"
   ]
  },
  {
   "cell_type": "code",
   "execution_count": 2,
   "id": "7e42fa08-a593-4651-ad99-9162cfa734f1",
   "metadata": {},
   "outputs": [],
   "source": [
    "def visit_all_nodes(gb):\n",
    "    n_nodes  = len(gb.G)\n",
    "    while True:\n",
    "        unvisited = [i for i in range(n_nodes) if gb.nodes[i]['n_visits']==0]\n",
    "        \n",
    "        if len(unvisited)==0:\n",
    "            break\n",
    "\n",
    "        dest = unvisited[0]\n",
    "        \n",
    "        next_path = nx.shortest_path(gb.G,gb.state,dest)\n",
    "        if len(next_path)==1:\n",
    "            gb.step(dest)\n",
    "        else:\n",
    "            for s in next_path[1:]:\n",
    "                gb.step(s)\n",
    "\n",
    "def get_ucb(gb,nodes=None):\n",
    "    \n",
    "    if nodes is None:\n",
    "        nodes = gb.nodes\n",
    "    ave_reward = [np.mean(gb.nodes[i]['r_hist']) for i in nodes] \n",
    "    nm = [gb.nodes[i]['n_visits'] for i in nodes]\n",
    "    \n",
    "    tm = len(gb.visitedStates)\n",
    "    ucb = ave_reward + np.sqrt(2*np.log(tm)/nm)\n",
    "    \n",
    "    return ucb\n",
    "\n",
    "\n",
    "def get_ucb_Q_table(gb):\n",
    "     \n",
    "    ucb = get_ucb(gb)\n",
    "    \n",
    "    gap = np.sort(list(set(ucb)))[-1]-np.sort(list(set(ucb)))[-2]\n",
    "\n",
    "    TG = nx.diameter(gb.G)*np.max(ucb)/gap\n",
    "\n",
    "    Q,k, _ = get_Q_table(gb.G,ucb,TG)\n",
    "    return Q\n",
    "\n",
    "\n",
    "def train_agent(n_samples,T,G,means, init_node,execute_agent):\n",
    "    regrets = np.zeros((n_samples,T))\n",
    "    for i in trange(n_samples):\n",
    "\n",
    "        env = graph_bandit_RL.GraphBandit(means[i],  G)\n",
    "\n",
    "        ## Visit all nodes\n",
    "        visit_all_nodes(env)\n",
    "\n",
    "        H0 = len(env.visitedStates)\n",
    "\n",
    "        # Start learning\n",
    "\n",
    "        env.state = init_node\n",
    "\n",
    "        while len(env.visitedStates)-H0<T:\n",
    "            execute_agent(env)\n",
    "            \n",
    "        # print(env.visitedStates.shape,regrets.shape)\n",
    "            \n",
    "        regrets[i,:]= env.expectedRegret()[:T]\n",
    "        \n",
    "    return regrets"
   ]
  },
  {
   "cell_type": "markdown",
   "id": "44fea4e6-f37f-4217-8da6-ca99fcc6418a",
   "metadata": {},
   "source": [
    "## Our algorithm"
   ]
  },
  {
   "cell_type": "code",
   "execution_count": 3,
   "id": "52343757-ccf6-4713-a18f-a6552471825e",
   "metadata": {},
   "outputs": [],
   "source": [
    "def doubling_agent(env):\n",
    "    ucb = get_ucb(env)\n",
    "    # Compute Q table.\n",
    "    Q = get_ucb_Q_table(env)\n",
    "\n",
    "    # Travel to the node with the highest UCB\n",
    "    while ucb[env.state] < np.max(ucb):\n",
    "        next_s = np.argmax(Q[env.state,:])\n",
    "        env.step(next_s)\n",
    "\n",
    "    target_count = 0+env.nodes[env.state]['n_visits']\n",
    "    # Keep sampling the best UCB node until its number of samples doubles\n",
    "    for _ in range(target_count):\n",
    "        env.step(env.state)"
   ]
  },
  {
   "cell_type": "code",
   "execution_count": 4,
   "id": "e092bfde",
   "metadata": {},
   "outputs": [],
   "source": [
    "def delta_test(Delta, n_nodes=10, graph_type='line', n_samples=100, T=450):\n",
    "    np.random.seed(SEED)\n",
    "    G = return_graph(graph_type, n_nodes)\n",
    "    \n",
    "    means = np.zeros((n_samples, n_nodes))\n",
    "    means[:,0] = [9.5-Delta for _ in range(n_samples)]\n",
    "    means[:,-1] = [9.5 for _ in range(n_samples)]\n",
    "    \n",
    "    regrets = train_agent(n_samples,T,G,means,init_node,doubling_agent)\n",
    "    return regrets\n",
    "\n",
    "    \n",
    "    "
   ]
  },
  {
   "cell_type": "code",
   "execution_count": 5,
   "id": "ca52eef4",
   "metadata": {},
   "outputs": [],
   "source": [
    "def num_nodes_test(Delta, n_nodes=10, graph_type='star', n_samples=100, T=450):\n",
    "    G = return_graph(graph_type, n_nodes)\n",
    "    print(len(G))\n",
    "    \n",
    "    means = np.random.uniform(low=0.5,high=9.5,size=(n_samples,n_nodes))\n",
    "\n",
    "\n",
    "    regrets = train_agent(n_samples,T,G,means,init_node,doubling_agent)\n",
    "    return regrets\n",
    "\n",
    "    \n",
    "    "
   ]
  },
  {
   "cell_type": "code",
   "execution_count": 6,
   "id": "ec358afd-164f-453a-8a90-5fb2b301213b",
   "metadata": {},
   "outputs": [],
   "source": [
    "def plotRegrets(allRegrets, titles=None, save_fig=None):\n",
    "    \"\"\"\n",
    "    param allRegrets: list of dictionaries of regrets(samples, time_steps) for various algorithms and runs\n",
    "    \"\"\"\n",
    "    nPlots = len(allRegrets)\n",
    "    \n",
    "    plt.style.use('seaborn-whitegrid')\n",
    "    # sns.set()\n",
    "    \n",
    "    keys = allRegrets[0].keys()\n",
    "    colors=['b', 'r', 'g', 'm', 'b', 'r', 'g', 'm', 'g', 'c', 'k', 'b', 'r', 'y', 'm', 'g','b']\n",
    "    styles = ['solid', 'solid', 'solid', 'solid','solid', 'dotted', 'dotted', 'dotted', 'dotted', 'dotted','dotted']\n",
    "\n",
    "    \n",
    "\n",
    "    if nPlots == 1:\n",
    "        regrets = allRegrets[0]\n",
    "        for j, key in enumerate(keys):\n",
    "            regret = regrets[key]\n",
    "            regret = np.cumsum(regret, axis=1)\n",
    "            regret = np.mean(regret, axis=0)\n",
    "            if not delta_test:\n",
    "                plt.plot([i for i in range(1,len(regret)+1)],regret, c=colors[key], linestyle = styles[key], label=labels[key],\\\n",
    "                        linewidth=3)\n",
    "            else:\n",
    "                plt.plot([i for i in range(1,len(regret)+1)],regret, c=colors[j], linestyle = styles[j], label=key,\\\n",
    "                        linewidth=3)\n",
    "        if titles is not None:    \n",
    "            plt.title(titles[0])\n",
    "\n",
    "        \n",
    "    plt.xlabel('$t$', fontsize=20)\n",
    "    plt.ylabel('Regret', fontsize=20)\n",
    "    plt.tick_params(labelsize=20)\n",
    "    if save_fig is not None:\n",
    "        plt.savefig('Figures/'+save_fig, bbox_inches = 'tight')\n",
    "    # plt.show()\n",
    "    \n",
    "    "
   ]
  },
  {
   "cell_type": "markdown",
   "id": "4d3c2bfb",
   "metadata": {},
   "source": [
    "### Define parameters"
   ]
  },
  {
   "cell_type": "markdown",
   "id": "a6d77bd7",
   "metadata": {},
   "source": [
    "Define the following parameters:  \n",
    "$\\texttt{T}:$ game length  \n",
    "$\\texttt{n_samples}:$ number of games to run   \n",
    "$\\texttt{episodes}:$ number of episodes; Let this be 1 for now \n",
    "$\\texttt{n_nodes}:$ number of nodes in graph. \n",
    "$\\texttt{mu_size}:$ the node means are drawn as $\\mu\\sim \\texttt{mu_size}\\times \\mathcal{N}(0,1)$   \n",
    "$\\texttt{sigma_size}:$ the node standard deviations are set to $\\texttt{sigma_size}$ \n",
    "$\\texttt{epsilon}:$ exploration parameter (only applicable for Q-learning algorithms)  \n",
    "$\\texttt{epsilon_discount}:$ exploration discount parameter (only applicable for Q-learning algorithms)  \n",
    "$\\texttt{algorithms}:$ the algorithms to run. \n",
    "\n",
    "\n",
    " \n",
    "\n"
   ]
  },
  {
   "cell_type": "code",
   "execution_count": 7,
   "id": "2d105c61",
   "metadata": {},
   "outputs": [],
   "source": [
    "T = 2000\n",
    "n_samples = 100\n",
    "episodes = 1\n",
    "n_nodes = 10\n",
    "mu_size = 1\n",
    "sigma_size = 1\n",
    "\n",
    "# For Q-learning\n",
    "\n",
    "epsilon = 0.9\n",
    "epsilon_discount=0.99\n",
    "\n",
    "init_node = 0"
   ]
  },
  {
   "cell_type": "markdown",
   "id": "b8ba406b-3e4b-4316-8eb9-2da1bf8833ba",
   "metadata": {},
   "source": [
    "# Dependence on $\\Delta$ "
   ]
  },
  {
   "cell_type": "code",
   "execution_count": 8,
   "id": "6b703397",
   "metadata": {},
   "outputs": [
    {
     "name": "stderr",
     "output_type": "stream",
     "text": [
      "<>:2: DeprecationWarning: invalid escape sequence \\D\n",
      "100%|█████████████████████████████████████████| 100/100 [00:02<00:00, 39.65it/s]\n",
      "100%|█████████████████████████████████████████| 100/100 [00:02<00:00, 33.58it/s]\n",
      "100%|█████████████████████████████████████████| 100/100 [00:03<00:00, 28.91it/s]\n",
      "100%|█████████████████████████████████████████| 100/100 [00:03<00:00, 26.94it/s]\n",
      "100%|█████████████████████████████████████████| 100/100 [00:03<00:00, 31.14it/s]\n",
      "100%|█████████████████████████████████████████| 100/100 [00:03<00:00, 30.15it/s]\n",
      "100%|█████████████████████████████████████████| 100/100 [00:03<00:00, 29.54it/s]\n",
      "100%|█████████████████████████████████████████| 100/100 [00:03<00:00, 29.97it/s]\n"
     ]
    }
   ],
   "source": [
    "delta_regrets = {}\n",
    "delta_regrets['$\\Delta=2$'] = delta_test(2, n_nodes=10, graph_type='line', n_samples=100, T=1000)\n",
    "delta_regrets['$\\Delta=1$'] = delta_test(1, n_nodes=10, graph_type='line', n_samples=100, T=1000)\n",
    "delta_regrets['$\\Delta=0.5$'] = delta_test(0.5, n_nodes=10, graph_type='line', n_samples=100, T=1000)\n",
    "delta_regrets['$\\Delta=0.25$'] = delta_test(0.25, n_nodes=10, graph_type='line', n_samples=100, T=1000)\n",
    "delta_regrets['$\\Delta=10^{-1}$'] = delta_test(0.1, n_nodes=10, graph_type='line', n_samples=100, T=1000)\n",
    "delta_regrets['$\\Delta=10^{-2}$'] = delta_test(0.01, n_nodes=10, graph_type='line', n_samples=100, T=1000)\n",
    "delta_regrets['$\\Delta=10^{-3}$'] = delta_test(0.001, n_nodes=10, graph_type='line', n_samples=100, T=1000)\n",
    "delta_regrets['$\\Delta=10^{-4}$'] = delta_test(0.0001, n_nodes=10, graph_type='line', n_samples=100, T=1000)"
   ]
  },
  {
   "cell_type": "code",
   "execution_count": 9,
   "id": "805bcee8",
   "metadata": {},
   "outputs": [],
   "source": [
    "with open('Data/delta_test.pkl', 'wb') as file:\n",
    "    pkl.dump(delta_regrets,file)"
   ]
  },
  {
   "cell_type": "code",
   "execution_count": 10,
   "id": "f6283481",
   "metadata": {},
   "outputs": [
    {
     "data": {
      "image/png": "[encoded data removed]",
      "text/plain": [
       "<Figure size 1200x800 with 1 Axes>"
      ]
     },
     "metadata": {
      "needs_background": "light"
     },
     "output_type": "display_data"
    }
   ],
   "source": [
    "plt.figure(dpi=200)\n",
    "\n",
    "plotRegrets([delta_regrets])#\n",
    "\n",
    "lines = plt.gca().get_lines()\n",
    "\n",
    "labelLine(\n",
    "    lines[-4],\n",
    "    450,\n",
    "    label=r\"$\\Delta\\leq 0.1$\",\n",
    "    ha=\"left\",\n",
    "    va=\"bottom\",\n",
    "    align=False,\n",
    "    yoffset = 10,\n",
    "    backgroundcolor=\"none\",\n",
    "   fontsize = 20\n",
    ")\n",
    "\n",
    "\n",
    "labelLines(lines[:-4],align=True, zorder=2.5,fontsize=20)\n",
    "\n",
    "\n",
    "plt.tight_layout()\n",
    "plt.savefig('Figures/delta_test.png',bbox_inches = 'tight')\n",
    "plt.show()"
   ]
  },
  {
   "cell_type": "markdown",
   "id": "f05305f4-07e4-4919-b3dd-a10d281f9532",
   "metadata": {},
   "source": [
    "# Dependence on $|S|$"
   ]
  },
  {
   "cell_type": "code",
   "execution_count": 11,
   "id": "c7504419-2f0d-4d32-a597-bedccf5f60ee",
   "metadata": {},
   "outputs": [],
   "source": [
    "nodes_regrets = {}"
   ]
  },
  {
   "cell_type": "code",
   "execution_count": 12,
   "id": "4e30e4d5",
   "metadata": {},
   "outputs": [
    {
     "name": "stdout",
     "output_type": "stream",
     "text": [
      "11\n"
     ]
    },
    {
     "name": "stderr",
     "output_type": "stream",
     "text": [
      "100%|█████████████████████████████████████████| 100/100 [00:05<00:00, 18.06it/s]\n"
     ]
    },
    {
     "name": "stdout",
     "output_type": "stream",
     "text": [
      "31\n"
     ]
    },
    {
     "name": "stderr",
     "output_type": "stream",
     "text": [
      "100%|█████████████████████████████████████████| 100/100 [00:16<00:00,  6.21it/s]\n"
     ]
    },
    {
     "name": "stdout",
     "output_type": "stream",
     "text": [
      "71\n"
     ]
    },
    {
     "name": "stderr",
     "output_type": "stream",
     "text": [
      "100%|█████████████████████████████████████████| 100/100 [01:02<00:00,  1.61it/s]\n"
     ]
    },
    {
     "name": "stdout",
     "output_type": "stream",
     "text": [
      "101\n"
     ]
    },
    {
     "name": "stderr",
     "output_type": "stream",
     "text": [
      "100%|█████████████████████████████████████████| 100/100 [02:02<00:00,  1.23s/it]\n"
     ]
    },
    {
     "name": "stdout",
     "output_type": "stream",
     "text": [
      "151\n"
     ]
    },
    {
     "name": "stderr",
     "output_type": "stream",
     "text": [
      "100%|█████████████████████████████████████████| 100/100 [04:26<00:00,  2.66s/it]\n"
     ]
    },
    {
     "name": "stdout",
     "output_type": "stream",
     "text": [
      "201\n"
     ]
    },
    {
     "name": "stderr",
     "output_type": "stream",
     "text": [
      "100%|█████████████████████████████████████████| 100/100 [07:57<00:00,  4.78s/it]\n"
     ]
    }
   ],
   "source": [
    "Ns = [11,31,71,101,151,201]\n",
    "n_samples = 100\n",
    "T = 2000\n",
    "\n",
    "np.random.seed(SEED)\n",
    "for n_nodes in Ns:\n",
    "    nodes_regrets['$|S|={}$'.format(n_nodes)] = num_nodes_test(0.01, n_nodes=n_nodes, graph_type='star', n_samples=n_samples, T=T)"
   ]
  },
  {
   "cell_type": "code",
   "execution_count": 13,
   "id": "6eaf3739",
   "metadata": {},
   "outputs": [],
   "source": [
    "with open('Data/num_node_test.pkl', 'wb') as file:\n",
    "    pkl.dump(nodes_regrets,file)"
   ]
  },
  {
   "cell_type": "code",
   "execution_count": 14,
   "id": "87004a5e",
   "metadata": {},
   "outputs": [
    {
     "ename": "TypeError",
     "evalue": "plotRegrets() got an unexpected keyword argument 'delta_test'",
     "output_type": "error",
     "traceback": [
      "\u001b[0;31m---------------------------------------------------------------------------\u001b[0m",
      "\u001b[0;31mTypeError\u001b[0m                                 Traceback (most recent call last)",
      "Input \u001b[0;32mIn [14]\u001b[0m, in \u001b[0;36m<cell line: 2>\u001b[0;34m()\u001b[0m\n\u001b[1;32m      1\u001b[0m plt\u001b[38;5;241m.\u001b[39mfigure(dpi\u001b[38;5;241m=\u001b[39m\u001b[38;5;241m200\u001b[39m)\n\u001b[0;32m----> 2\u001b[0m \u001b[43mplotRegrets\u001b[49m\u001b[43m(\u001b[49m\u001b[43m[\u001b[49m\u001b[43mnodes_regrets\u001b[49m\u001b[43m]\u001b[49m\u001b[43m,\u001b[49m\u001b[43m \u001b[49m\u001b[43mdelta_test\u001b[49m\u001b[38;5;241;43m=\u001b[39;49m\u001b[38;5;28;43;01mTrue\u001b[39;49;00m\u001b[43m)\u001b[49m\n\u001b[1;32m      4\u001b[0m lines \u001b[38;5;241m=\u001b[39m plt\u001b[38;5;241m.\u001b[39mgca()\u001b[38;5;241m.\u001b[39mget_lines()\n\u001b[1;32m      6\u001b[0m labelLines(lines[:],align\u001b[38;5;241m=\u001b[39m\u001b[38;5;28;01mFalse\u001b[39;00m, zorder\u001b[38;5;241m=\u001b[39m\u001b[38;5;241m2.5\u001b[39m,fontsize\u001b[38;5;241m=\u001b[39m\u001b[38;5;241m20\u001b[39m)\n",
      "\u001b[0;31mTypeError\u001b[0m: plotRegrets() got an unexpected keyword argument 'delta_test'"
     ]
    },
    {
     "data": {
      "text/plain": [
       "<Figure size 1200x800 with 0 Axes>"
      ]
     },
     "metadata": {},
     "output_type": "display_data"
    }
   ],
   "source": [
    "plt.figure(dpi=200)\n",
    "plotRegrets([nodes_regrets], delta_test=True)\n",
    "\n",
    "lines = plt.gca().get_lines()\n",
    "\n",
    "labelLines(lines[:],align=False, zorder=2.5,fontsize=20)\n",
    "plt.tight_layout()\n",
    "plt.savefig('Figures/num_node_test.png')\n",
    "plt.show()"
   ]
  },
  {
   "cell_type": "code",
   "execution_count": null,
   "id": "6fd7d86b-31ad-46be-b7f0-8dd878455256",
   "metadata": {},
   "outputs": [],
   "source": [
    "num_nodes = [11,31,71,101,151,201]\n",
    "\n",
    "reg = [nodes_regrets[\"$|S|={}$\".format(n)] for n in num_nodes]\n",
    "\n",
    "reg = np.cumsum(reg, axis=2)\n",
    "reg = np.mean(reg, axis=1)\n",
    "\n",
    "plt.figure(dpi=200)\n",
    "\n",
    "plt.plot(num_nodes,reg[:,-1],marker='o')\n",
    "plt.xlabel(r\"$|S|$\",fontsize=25)\n",
    "plt.ylabel(r'Regret at $t=2000$',fontsize=25)\n",
    "plt.tick_params(labelsize=25)\n",
    "\n",
    "plt.tight_layout()\n",
    "plt.savefig('Figures/Rvs|S|.png')"
   ]
  },
  {
   "cell_type": "markdown",
   "id": "9a190730-7709-489a-a82c-00248a75e912",
   "metadata": {},
   "source": [
    "# Dependence on $D$"
   ]
  },
  {
   "cell_type": "code",
   "execution_count": null,
   "id": "8e0fbcb7",
   "metadata": {},
   "outputs": [],
   "source": [
    "# Fixed diameter graphs\n",
    "def fix_diameter_graph(N,D):\n",
    "    assert(D<=N)\n",
    "    \n",
    "    if D==1:\n",
    "        return return_graph('fully_connected',N)\n",
    "    \n",
    "    G = return_graph('line',D)\n",
    "    G.add_edges_from([(D-1, i+D) for i in range(N-D)])\n",
    "    G.add_edges_from([(i,i) for i in G])\n",
    "    return G"
   ]
  },
  {
   "cell_type": "code",
   "execution_count": null,
   "id": "6424114b-c14b-4d4d-8c55-5cff7c0941f9",
   "metadata": {},
   "outputs": [],
   "source": [
    "reg = {}"
   ]
  },
  {
   "cell_type": "code",
   "execution_count": null,
   "id": "80cc00c7-d872-4da0-afc0-b09778fb4157",
   "metadata": {},
   "outputs": [],
   "source": [
    "np.random.seed(SEED)\n",
    "fig,axes = plt.subplots(3,3,figsize=(9, 9),dpi=200)\n",
    "axes = axes.flatten()\n",
    "for i in range(1,10):\n",
    "    ax = axes[i-1]\n",
    "    nx.draw(fix_diameter_graph(10,i),ax=ax)\n",
    "    ax.set_title(r'$D={}$'.format(i),fontsize=16)\n",
    "plt.tight_layout()\n",
    "plt.savefig('Figures/IncreasingDIllustration.png')\n",
    "plt.show()"
   ]
  },
  {
   "cell_type": "code",
   "execution_count": null,
   "id": "f5139b4c-3725-4baa-9bb2-a5fef132f70b",
   "metadata": {},
   "outputs": [],
   "source": [
    "n_nodes = 50\n",
    "n_samples = 100\n",
    "\n",
    "T=2000\n",
    "\n",
    "init_node = 0\n",
    "\n",
    "Ds = range(2,n_nodes+2,4)\n",
    "\n",
    "np.random.seed(SEED)\n",
    "for d in Ds:\n",
    "    G = fix_diameter_graph(n_nodes,d)\n",
    "\n",
    "    means = np.random.uniform(low=0.5,high=9.5,size=(n_samples,n_nodes))\n",
    "\n",
    "    regrets = train_agent(n_samples,T,G,means,init_node,doubling_agent)\n",
    "    \n",
    "    reg['$D={}$'.format(d)]=regrets"
   ]
  },
  {
   "cell_type": "code",
   "execution_count": null,
   "id": "4994c1b1-6b98-4875-967c-50055701e75a",
   "metadata": {},
   "outputs": [],
   "source": [
    "with open('Data/D_test.pkl', 'wb') as file:\n",
    "    pkl.dump(reg,file)"
   ]
  },
  {
   "cell_type": "code",
   "execution_count": null,
   "id": "a7bb8906-af60-4d00-8c67-0c7f9827c9e5",
   "metadata": {},
   "outputs": [],
   "source": [
    "plt.figure(dpi=200)\n",
    "\n",
    "\n",
    "to_plot = {'$D={}$'.format(i):reg['$D={}$'.format(i)] for i in [2,10,18,26,34,42]}\n",
    "\n",
    "plotRegrets([to_plot])\n",
    "\n",
    "lines = plt.gca().get_lines()\n",
    "\n",
    "\n",
    "labelLines(lines,align=False, zorder=2.5,fontsize=20)\n",
    "\n",
    "\n",
    "plt.tight_layout()\n",
    "plt.savefig('Figures/D_test.png')\n",
    "\n",
    "plt.show()"
   ]
  },
  {
   "cell_type": "code",
   "execution_count": null,
   "id": "07c47fad-e6a2-437d-a630-67ee26438129",
   "metadata": {},
   "outputs": [],
   "source": [
    "\n",
    "to_plot_D = list(range(2,n_nodes+2,8))\n",
    "R = [reg['$D={}$'.format(d)] for d in to_plot_D]\n",
    "R = np.cumsum(R, axis=2)\n",
    "R = np.mean(R, axis=1)\n",
    "\n",
    "plt.figure(dpi=200)\n",
    "\n",
    "plt.plot(to_plot_D,R[:,-1],marker='o')\n",
    "plt.xlabel(r\"$D$\",fontsize=25)\n",
    "plt.ylabel(r'Regret at $t=2000$',fontsize=25)\n",
    "plt.tick_params(labelsize=25)\n",
    "\n",
    "plt.tight_layout()\n",
    "plt.savefig('Figures/RvsD.png')\n",
    "plt.show()"
   ]
  }
 ],
 "metadata": {
  "kernelspec": {
   "display_name": "Python 3 (ipykernel)",
   "language": "python",
   "name": "python3"
  },
  "language_info": {
   "codemirror_mode": {
    "name": "ipython",
    "version": 3
   },
   "file_extension": ".py",
   "mimetype": "text/x-python",
   "name": "python",
   "nbconvert_exporter": "python",
   "pygments_lexer": "ipython3",
   "version": "3.9.12"
  }
 },
 "nbformat": 4,
 "nbformat_minor": 5
}
