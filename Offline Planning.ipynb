{
 "cells": [
  {
   "cell_type": "markdown",
   "id": "f7d6cd11",
   "metadata": {},
   "source": [
    "### Import modules"
   ]
  },
  {
   "cell_type": "code",
   "execution_count": 1,
   "id": "3da4ac06",
   "metadata": {},
   "outputs": [],
   "source": [
    "import networkx as nx\n",
    "import graph_bandit_RL\n",
    "from graph_bandit_helper_tools import *\n",
    "np.random.seed(1)\n",
    "from known_rewards_helper_functions import get_Q_table,get_paths\n",
    "\n",
    "%load_ext autoreload\n",
    "%autoreload 2"
   ]
  },
  {
   "cell_type": "code",
   "execution_count": 18,
   "id": "3b6b655b-225f-4c22-b500-561bed7234dc",
   "metadata": {},
   "outputs": [],
   "source": [
    "def graph_get_policy(G_in,means):\n",
    "    G = G_in.copy()\n",
    "    \n",
    "    sorted_mean = np.sort(list(set(means)))\n",
    "    assert(len(sorted_mean)>=2)\n",
    "    Delta = sorted_mean[-1]-sorted_mean[-2]\n",
    "    D = nx.diameter(G)\n",
    "    mu_star = np.max(means)\n",
    "    Q,n_iter,n_calls=get_Q_table(G, means, T=D*mu_star/Delta)\n",
    "    \n",
    "    policy = {}\n",
    "    for s in G:\n",
    "        neighbors = [_ for _ in G.neighbors(s)]\n",
    "        neighbor_cost = [Q[s,nb] for nb in neighbors]\n",
    "        policy[s] = neighbors[np.argmax(neighbor_cost)]\n",
    "    return policy,n_calls,n_iter"
   ]
  },
  {
   "cell_type": "code",
   "execution_count": 69,
   "id": "6a69e3a5-95c3-47f6-8a19-a65a7f72b210",
   "metadata": {},
   "outputs": [],
   "source": [
    "def DP_get_policy(G_cyc,means):\n",
    "    G = G_cyc.copy()\n",
    "    G.remove_edges_from(nx.selfloop_edges(G_cyc))\n",
    "\n",
    "    # Assume no self-loops in this setting.\n",
    "    # cost at s: g(s)= mu*-mu(s)\n",
    "    # C(s,T) = min_{length<=T simple path(no loops) starting at s ending s*} \\sum_t g(s_t) =  \\min{C(s,T-1), \\min_{w in N_s} g(w)+C(w,T-1)}\n",
    "    # C(s*,0) = 0, C(v,0) = +inf if v!=s*.\n",
    "\n",
    "    mu_star = np.max(means)\n",
    "    s_star = np.argmax(means)\n",
    "\n",
    "    g = mu_star - means\n",
    "\n",
    "    n_nodes = G.number_of_nodes()\n",
    "\n",
    "    C0 = np.ones(n_nodes)*np.inf\n",
    "\n",
    "    C0[s_star] = 0\n",
    "\n",
    "    Cs = [C0]\n",
    "\n",
    "    # Value iteration for acyclic all-to-all weighted shortest path.\n",
    "    n_calls = 0\n",
    "    while True:\n",
    "        C = np.zeros(n_nodes)\n",
    "\n",
    "        for s in G:\n",
    "            n_calls+=1\n",
    "            C[s] = np.min([Cs[-1][w]+g[w] for w in G.neighbors(s)]+[Cs[-1][s]])\n",
    "\n",
    "        if np.all(C==Cs[-1]):\n",
    "            break\n",
    "        Cs.append(C)\n",
    "\n",
    "    C = Cs[-1]\n",
    "\n",
    "    # print(len(Cs))\n",
    "\n",
    "    policy = {}\n",
    "\n",
    "    # Compute the optimal policy from the cost table.\n",
    "    for s in G:\n",
    "        if not s==s_star:\n",
    "            neighbors = [_ for _ in G.neighbors(s)]\n",
    "            neighbor_total_cost = [g[nb]+C[nb] for nb in neighbors]\n",
    "            policy[s] = neighbors[np.argmin(neighbor_total_cost)]\n",
    "        else:\n",
    "            policy[s] = s\n",
    "    return policy,n_calls,len(Cs)"
   ]
  },
  {
   "cell_type": "code",
   "execution_count": 20,
   "id": "c7315f2e-a1ae-4050-979d-0d17dcf65154",
   "metadata": {},
   "outputs": [],
   "source": [
    "def dict_to_array(dic):\n",
    "    a = np.zeros(len(dic))\n",
    "    for key, val in dic.items():\n",
    "        a[key]=val\n",
    "    return a"
   ]
  },
  {
   "cell_type": "markdown",
   "id": "c1a1df7d",
   "metadata": {},
   "source": [
    "# Line Graph"
   ]
  },
  {
   "cell_type": "code",
   "execution_count": 100,
   "id": "c38c33e8-90b5-4214-901b-0a353aa9242f",
   "metadata": {},
   "outputs": [
    {
     "name": "stdout",
     "output_type": "stream",
     "text": [
      "2 2 2\n",
      "4 4 4\n",
      "6 6 6\n",
      "8 8 8\n",
      "10 10 10\n",
      "12 12 12\n",
      "14 14 14\n",
      "16 16 16\n",
      "18 18 18\n"
     ]
    }
   ],
   "source": [
    "node_num = range(2,20,2)\n",
    "\n",
    "G_compute = []\n",
    "DP_compute = []\n",
    "\n",
    "for n in node_num:\n",
    "    np.random.seed(773)\n",
    "    means = np.random.rand(n)\n",
    "    means[0]=0.99\n",
    "    means[-1]=1\n",
    "    G = return_graph('line',n)\n",
    "    # G = nx.erdos_renyi_graph(n,0.5)\n",
    "\n",
    "    pol1,nG,G_iter = graph_get_policy(G,means)\n",
    "    \n",
    "    G_compute.append(nG)\n",
    "\n",
    "    pol2,nDP,DP_iter = DP_get_policy(G,means)\n",
    "    \n",
    "    assert(np.all(dict_to_array(pol1)-dict_to_array(pol2)==0))\n",
    "    DP_compute.append(nDP)\n",
    "    \n",
    "    print(n,G_iter,DP_iter)"
   ]
  },
  {
   "cell_type": "code",
   "execution_count": 101,
   "id": "90fe4c60-5265-473b-b14a-3293cfdee121",
   "metadata": {},
   "outputs": [
    {
     "data": {
      "text/plain": [
       "[<matplotlib.lines.Line2D at 0x1667caa45c8>]"
      ]
     },
     "execution_count": 101,
     "metadata": {},
     "output_type": "execute_result"
    },
    {
     "data": {
      "image/png": "[encoded data removed]",
      "text/plain": [
       "<Figure size 432x288 with 1 Axes>"
      ]
     },
     "metadata": {
      "needs_background": "light"
     },
     "output_type": "display_data"
    }
   ],
   "source": [
    "plt.plot(node_num,G_compute,color='red')\n",
    "\n",
    "plt.plot(node_num,DP_compute,color = 'green')"
   ]
  },
  {
   "cell_type": "markdown",
   "id": "89b7d0c3-e9d0-40ab-8313-2805131fd8b2",
   "metadata": {},
   "source": [
    "# Star Graph"
   ]
  },
  {
   "cell_type": "code",
   "execution_count": 98,
   "id": "cfd57fc7-f1b5-4c7e-8837-d96b28d2e731",
   "metadata": {},
   "outputs": [
    {
     "name": "stdout",
     "output_type": "stream",
     "text": [
      "2 2 2\n",
      "4 3 3\n",
      "6 3 3\n",
      "8 3 3\n",
      "10 3 3\n",
      "12 3 3\n",
      "14 3 3\n",
      "16 3 3\n",
      "18 3 3\n"
     ]
    }
   ],
   "source": [
    "node_num = range(2,20,2)\n",
    "\n",
    "G_compute = []\n",
    "DP_compute = []\n",
    "\n",
    "for n in node_num:\n",
    "    np.random.seed(773)\n",
    "    means = np.random.rand(n)\n",
    "    means[0]=0.99\n",
    "    means[-1]=1\n",
    "    G = return_graph('star',n)\n",
    "    # G = nx.erdos_renyi_graph(n,0.5)\n",
    "\n",
    "    pol1,nG,G_iter = graph_get_policy(G,means)\n",
    "    \n",
    "    G_compute.append(nG)\n",
    "\n",
    "    pol2,nDP,DP_iter = DP_get_policy(G,means)\n",
    "    \n",
    "    assert(np.all(dict_to_array(pol1)-dict_to_array(pol2)==0))\n",
    "    DP_compute.append(nDP)\n",
    "    \n",
    "    print(n,G_iter,DP_iter)"
   ]
  },
  {
   "cell_type": "code",
   "execution_count": 99,
   "id": "f4342fe2-30d4-44ce-86fe-fa2ff26dfbdf",
   "metadata": {},
   "outputs": [
    {
     "data": {
      "text/plain": [
       "[<matplotlib.lines.Line2D at 0x1667ca3ae08>]"
      ]
     },
     "execution_count": 99,
     "metadata": {},
     "output_type": "execute_result"
    },
    {
     "data": {
      "image/png": "[encoded data removed]",
      "text/plain": [
       "<Figure size 432x288 with 1 Axes>"
      ]
     },
     "metadata": {
      "needs_background": "light"
     },
     "output_type": "display_data"
    }
   ],
   "source": [
    "plt.plot(node_num,G_compute,color='red')\n",
    "\n",
    "plt.plot(node_num,DP_compute,color = 'green')"
   ]
  },
  {
   "cell_type": "markdown",
   "id": "70e59981-96e8-40db-bf17-44538a90eaef",
   "metadata": {},
   "source": [
    "# Fully-Connected Graph"
   ]
  },
  {
   "cell_type": "code",
   "execution_count": 96,
   "id": "64ea3bd5-96a2-41e1-9456-08d229b59443",
   "metadata": {},
   "outputs": [
    {
     "name": "stdout",
     "output_type": "stream",
     "text": [
      "2 2 2\n",
      "4 2 2\n",
      "6 2 2\n",
      "8 2 2\n",
      "10 2 2\n",
      "12 2 2\n",
      "14 2 2\n",
      "16 2 2\n",
      "18 2 2\n"
     ]
    }
   ],
   "source": [
    "node_num = range(2,20,2)\n",
    "\n",
    "G_compute = []\n",
    "DP_compute = []\n",
    "\n",
    "for n in node_num:\n",
    "    np.random.seed(773)\n",
    "    means = np.random.rand(n)\n",
    "    means[0]=0.99\n",
    "    means[-1]=1\n",
    "    G = return_graph('fully_connected',n)\n",
    "    # G = nx.erdos_renyi_graph(n,0.5)\n",
    "\n",
    "    pol1,nG,G_iter = graph_get_policy(G,means)\n",
    "    \n",
    "    G_compute.append(nG)\n",
    "\n",
    "    pol2,nDP,DP_iter = DP_get_policy(G,means)\n",
    "    \n",
    "    assert(np.all(dict_to_array(pol1)-dict_to_array(pol2)==0))\n",
    "    DP_compute.append(nDP)\n",
    "    \n",
    "    print(n,G_iter,DP_iter)"
   ]
  },
  {
   "cell_type": "code",
   "execution_count": 97,
   "id": "210ed5d2-5310-4633-8eaa-00ae4c1c4201",
   "metadata": {},
   "outputs": [
    {
     "data": {
      "text/plain": [
       "[<matplotlib.lines.Line2D at 0x1667c9c8e48>]"
      ]
     },
     "execution_count": 97,
     "metadata": {},
     "output_type": "execute_result"
    },
    {
     "data": {
      "image/png": "[encoded data removed]",
      "text/plain": [
       "<Figure size 432x288 with 1 Axes>"
      ]
     },
     "metadata": {
      "needs_background": "light"
     },
     "output_type": "display_data"
    }
   ],
   "source": [
    "plt.plot(node_num,G_compute,color='red')\n",
    "\n",
    "plt.plot(node_num,DP_compute,color = 'green')"
   ]
  },
  {
   "cell_type": "markdown",
   "id": "f6c05cae-8304-4805-b46d-013ec913750d",
   "metadata": {},
   "source": [
    "# Circle Graph"
   ]
  },
  {
   "cell_type": "code",
   "execution_count": 94,
   "id": "154f3f98-1dc9-41f8-b08c-e272594d7eb5",
   "metadata": {},
   "outputs": [
    {
     "name": "stdout",
     "output_type": "stream",
     "text": [
      "2 2 2\n",
      "4 3 3\n",
      "6 5 5\n",
      "8 5 5\n",
      "10 6 6\n",
      "12 7 7\n",
      "14 9 9\n",
      "16 11 11\n",
      "18 11 11\n"
     ]
    }
   ],
   "source": [
    "node_num = range(2,20,2)\n",
    "\n",
    "G_compute = []\n",
    "DP_compute = []\n",
    "\n",
    "for n in node_num:\n",
    "    np.random.seed(773)\n",
    "    means = np.random.rand(n)\n",
    "    means[0]=0.99\n",
    "    means[-1]=1\n",
    "    G = return_graph('circle',n)\n",
    "    # G = nx.erdos_renyi_graph(n,0.5)\n",
    "\n",
    "    pol1,nG,G_iter = graph_get_policy(G,means)\n",
    "    \n",
    "    G_compute.append(nG)\n",
    "\n",
    "    pol2,nDP,DP_iter = DP_get_policy(G,means)\n",
    "    \n",
    "    assert(np.all(dict_to_array(pol1)-dict_to_array(pol2)==0))\n",
    "    DP_compute.append(nDP)\n",
    "    \n",
    "    print(n,G_iter,DP_iter)"
   ]
  },
  {
   "cell_type": "code",
   "execution_count": 95,
   "id": "0753e74b-5fc2-48da-8cd3-fb6469071066",
   "metadata": {},
   "outputs": [
    {
     "data": {
      "text/plain": [
       "[<matplotlib.lines.Line2D at 0x1667c931e88>]"
      ]
     },
     "execution_count": 95,
     "metadata": {},
     "output_type": "execute_result"
    },
    {
     "data": {
      "image/png": "[encoded data removed]",
      "text/plain": [
       "<Figure size 432x288 with 1 Axes>"
      ]
     },
     "metadata": {
      "needs_background": "light"
     },
     "output_type": "display_data"
    }
   ],
   "source": [
    "plt.plot(node_num,G_compute,color='red')\n",
    "\n",
    "plt.plot(node_num,DP_compute,color = 'green')"
   ]
  },
  {
   "cell_type": "markdown",
   "id": "c280dd4d-ce3f-4969-aae0-a9a51f21a100",
   "metadata": {},
   "source": [
    "# Tree Graph"
   ]
  },
  {
   "cell_type": "code",
   "execution_count": 126,
   "id": "60e7f482-8c0e-49f7-b342-0a7e0ae4f996",
   "metadata": {},
   "outputs": [
    {
     "name": "stdout",
     "output_type": "stream",
     "text": [
      "2 2 2\n",
      "4 3 3\n",
      "6 4 4\n",
      "8 4 4\n",
      "10 5 5\n",
      "12 5 5\n",
      "14 5 5\n",
      "16 5 5\n",
      "18 5 5\n"
     ]
    }
   ],
   "source": [
    "node_num = [2,4,6,8,10,12,14,16,18]\n",
    "n_children = 4\n",
    "\n",
    "G_compute = []\n",
    "DP_compute = []\n",
    "\n",
    "for n in node_num:\n",
    "    np.random.seed(773)\n",
    "    means = np.random.rand(n)\n",
    "    means[0]=0.99\n",
    "    means[-1]=1\n",
    "    G = return_graph('tree',n,n_children)\n",
    "    # G = nx.erdos_renyi_graph(n,0.5)\n",
    "\n",
    "    pol1,nG,G_iter = graph_get_policy(G,means)\n",
    "    \n",
    "    G_compute.append(nG)\n",
    "\n",
    "    pol2,nDP,DP_iter = DP_get_policy(G,means)\n",
    "    \n",
    "    assert(np.all(dict_to_array(pol1)-dict_to_array(pol2)==0))\n",
    "    DP_compute.append(nDP)\n",
    "    \n",
    "    print(n,G_iter,DP_iter)"
   ]
  },
  {
   "cell_type": "code",
   "execution_count": 127,
   "id": "7592f8ca-59bb-43d0-8dc9-3dc06d1c779d",
   "metadata": {},
   "outputs": [
    {
     "data": {
      "text/plain": [
       "[<matplotlib.lines.Line2D at 0x1667cfa6f08>]"
      ]
     },
     "execution_count": 127,
     "metadata": {},
     "output_type": "execute_result"
    },
    {
     "data": {
      "image/png": "[encoded data removed]",
      "text/plain": [
       "<Figure size 432x288 with 1 Axes>"
      ]
     },
     "metadata": {
      "needs_background": "light"
     },
     "output_type": "display_data"
    }
   ],
   "source": [
    "plt.plot(node_num,G_compute,color='red')\n",
    "\n",
    "plt.plot(node_num,DP_compute,color = 'green')"
   ]
  },
  {
   "cell_type": "markdown",
   "id": "c525f61a-5aec-4f47-8eb2-9dd1e88aee80",
   "metadata": {},
   "source": [
    "# The Q-graph algorithm has an advantge when the degree of the graph is low."
   ]
  },
  {
   "cell_type": "code",
   "execution_count": 102,
   "id": "0a027cac-0b28-4bb3-8689-862e9ad1a627",
   "metadata": {},
   "outputs": [],
   "source": [
    "# ds = [2,4,6,8,10]\n",
    "# n = 10\n",
    "# rep = 20\n",
    "\n",
    "# np.random.seed(773)\n",
    "# means = np.random.rand(n)\n",
    "# means[0]=0.99\n",
    "# means[-1]=1\n",
    "\n",
    "# G_ave_compute = []\n",
    "# DP_ave_compute = []\n",
    "# for d in ds:\n",
    "#     G_compute = []\n",
    "#     DP_compute = []\n",
    "#     for _ in range(rep):\n",
    "        \n",
    "#         G = nx.random_regular_graph(n=n,d=d)\n",
    "\n",
    "#         pol1,nG,G_iter = graph_get_policy(G,means)\n",
    "\n",
    "#         G_compute.append(nG)\n",
    "\n",
    "#         pol2,nDP,DP_iter = DP_get_policy(G,means)\n",
    "\n",
    "#         DP_compute.append(nDP)\n",
    "        \n",
    "#     G_ave_compute.append(np.mean(G_compute))\n",
    "#     DP_ave_compute.append(np.mean(DP_compute))"
   ]
  }
 ],
 "metadata": {
  "kernelspec": {
   "display_name": "Python 3",
   "language": "python",
   "name": "python3"
  },
  "language_info": {
   "codemirror_mode": {
    "name": "ipython",
    "version": 3
   },
   "file_extension": ".py",
   "mimetype": "text/x-python",
   "name": "python",
   "nbconvert_exporter": "python",
   "pygments_lexer": "ipython3",
   "version": "3.7.6"
  }
 },
 "nbformat": 4,
 "nbformat_minor": 5
}
